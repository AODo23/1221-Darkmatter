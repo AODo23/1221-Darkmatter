{
  "nbformat": 4,
  "nbformat_minor": 0,
  "metadata": {
    "colab": {
      "provenance": [],
      "authorship_tag": "ABX9TyOZM3/Ag2xuxQ4IlofXrPLm",
      "include_colab_link": true
    },
    "kernelspec": {
      "name": "python3",
      "display_name": "Python 3"
    },
    "language_info": {
      "name": "python"
    }
  },
  "cells": [
    {
      "cell_type": "markdown",
      "metadata": {
        "id": "view-in-github",
        "colab_type": "text"
      },
      "source": [
        "<a href=\"https://colab.research.google.com/github/AODo23/1221-Darkmatter/blob/main/In_class_11_17_23.ipynb\" target=\"_parent\"><img src=\"https://colab.research.google.com/assets/colab-badge.svg\" alt=\"Open In Colab\"/></a>"
      ]
    },
    {
      "cell_type": "code",
      "execution_count": null,
      "metadata": {
        "id": "NusXb7lAqyFU"
      },
      "outputs": [],
      "source": [
        "import astropy.units as u #We import our units programs to help simplifying the problem solving process\n",
        "import numpy as np\n",
        "import astropy.constants as ac"
      ]
    },
    {
      "cell_type": "code",
      "source": [
        "d = 2  *u.solRad #Here we define our distance to the Earth from Sun, distance across the sun, and use these to define the velocity of the Earth\n",
        "a = u.AU\n",
        "v = np.sqrt((ac.G * u.solMass) / a)\n",
        "print(v.to(u.m / u.s))"
      ],
      "metadata": {
        "colab": {
          "base_uri": "https://localhost:8080/"
        },
        "id": "1XYRBw-Jq6Iz",
        "outputId": "dd22f5a6-0c79-4260-e9b1-29398628762a"
      },
      "execution_count": null,
      "outputs": [
        {
          "output_type": "stream",
          "name": "stdout",
          "text": [
            "29784.691829676933 m / s\n"
          ]
        }
      ]
    },
    {
      "cell_type": "code",
      "source": [
        "print(d.to(u.m))"
      ],
      "metadata": {
        "colab": {
          "base_uri": "https://localhost:8080/"
        },
        "id": "cdAMWASsrdEt",
        "outputId": "fd4012f2-8c2e-4702-c35a-5d0975bc6ac5"
      },
      "execution_count": null,
      "outputs": [
        {
          "output_type": "stream",
          "name": "stdout",
          "text": [
            "1391400000.0 m\n"
          ]
        }
      ]
    },
    {
      "cell_type": "code",
      "source": [
        "t = (d.to(u.m)) / v"
      ],
      "metadata": {
        "id": "klpruHGXr2bL"
      },
      "execution_count": null,
      "outputs": []
    },
    {
      "cell_type": "code",
      "source": [
        "print(t.to(u.h)) # with the known distance across the sun and speed of the Earth, here we have how long it takes the Earth to transit across the Sun"
      ],
      "metadata": {
        "colab": {
          "base_uri": "https://localhost:8080/"
        },
        "id": "mFf8QP5Kr93J",
        "outputId": "89f427ae-9cb6-4862-9d81-73653eb3fc09"
      },
      "execution_count": null,
      "outputs": [
        {
          "output_type": "stream",
          "name": "stdout",
          "text": [
            "12.976464628547824 h\n"
          ]
        }
      ]
    },
    {
      "cell_type": "code",
      "source": [
        "aj = 5 * u.AU #Here we are defining the distance of Jupiter from the Sun"
      ],
      "metadata": {
        "id": "7E0qslAAsiso"
      },
      "execution_count": null,
      "outputs": []
    },
    {
      "cell_type": "code",
      "source": [
        "d = 2  *u.solRad #Same porcess of above, we are calculating the velocity of jupiter around the Sun using conservation of Momentum\n",
        "a = u.AU\n",
        "vj = np.sqrt((ac.G * u.solMass) / aj)\n",
        "print(v.to(u.m / u.s))"
      ],
      "metadata": {
        "colab": {
          "base_uri": "https://localhost:8080/"
        },
        "outputId": "5b458cdb-1209-4ecc-ed27-a84e64f2de7d",
        "id": "T3nj_nS6sxJY"
      },
      "execution_count": null,
      "outputs": [
        {
          "output_type": "stream",
          "name": "stdout",
          "text": [
            "13320.119124008042 m / s\n"
          ]
        }
      ]
    },
    {
      "cell_type": "code",
      "source": [
        "t = d / vj #Here is the transit time\n",
        "print(t.to(u.h))"
      ],
      "metadata": {
        "colab": {
          "base_uri": "https://localhost:8080/"
        },
        "id": "Flb3ZA_7s3_o",
        "outputId": "beb442fd-60d7-42e1-f769-9cf0f50988e6"
      },
      "execution_count": null,
      "outputs": [
        {
          "output_type": "stream",
          "name": "stdout",
          "text": [
            "29.01625701705449 h\n"
          ]
        }
      ]
    },
    {
      "cell_type": "code",
      "source": [
        "jup = u.jupiterRad"
      ],
      "metadata": {
        "id": "O5hebc8hufXK"
      },
      "execution_count": null,
      "outputs": []
    },
    {
      "cell_type": "code",
      "source": [
        "Sol = u.solRad"
      ],
      "metadata": {
        "id": "3rB5YyNXuk1J"
      },
      "execution_count": null,
      "outputs": []
    },
    {
      "cell_type": "code",
      "source": [
        "Transitd = (jup / Sol)**2 #Now this equation tells us how much of the Suns light is blocked by Jupiter"
      ],
      "metadata": {
        "id": "sl7NWWvztTjz"
      },
      "execution_count": null,
      "outputs": []
    },
    {
      "cell_type": "code",
      "source": [
        "print(Transitd.decompose())"
      ],
      "metadata": {
        "colab": {
          "base_uri": "https://localhost:8080/"
        },
        "id": "tsrt6xM5ttAA",
        "outputId": "bc74d784-060e-4acd-dcd9-5d42a7b59a79"
      },
      "execution_count": null,
      "outputs": [
        {
          "output_type": "stream",
          "name": "stdout",
          "text": [
            "0.0105602\n"
          ]
        }
      ]
    },
    {
      "cell_type": "markdown",
      "source": [
        "Now Radial velocity"
      ],
      "metadata": {
        "id": "BmGwkZ_SvqLx"
      }
    },
    {
      "cell_type": "code",
      "source": [
        "\n",
        "Me = u.earthMass #We now find the radial velocity using conservation of momentum of the Earth and the Sun\n",
        "Ms = u.solMass\n",
        "Vs = (Me / Ms) * v"
      ],
      "metadata": {
        "id": "-LzhaVwHvrhE"
      },
      "execution_count": null,
      "outputs": []
    },
    {
      "cell_type": "code",
      "source": [
        "print(Vs.decompose())"
      ],
      "metadata": {
        "colab": {
          "base_uri": "https://localhost:8080/"
        },
        "id": "XaNq7EZexZNQ",
        "outputId": "a5552187-3c97-4c33-acfd-35457179cd76"
      },
      "execution_count": null,
      "outputs": [
        {
          "output_type": "stream",
          "name": "stdout",
          "text": [
            "0.08945800466923791 m / s\n"
          ]
        }
      ]
    },
    {
      "cell_type": "markdown",
      "source": [
        "Now with Jupiter"
      ],
      "metadata": {
        "id": "LfJLTv_byNNb"
      }
    },
    {
      "cell_type": "code",
      "source": [
        "Mjup =u.jupiterMass #We now find the radial velocity using the conservation of momentume of Jupoter and the Sun\n",
        "Vs = ( Mjup / Ms) * vj"
      ],
      "metadata": {
        "id": "LshkpumryS2Q"
      },
      "execution_count": null,
      "outputs": []
    },
    {
      "cell_type": "code",
      "source": [
        "print(Vs.decompose())"
      ],
      "metadata": {
        "colab": {
          "base_uri": "https://localhost:8080/"
        },
        "id": "ZhWFSrMzyatA",
        "outputId": "22cdffeb-6dc8-4444-d3fe-cabcd420f944"
      },
      "execution_count": null,
      "outputs": [
        {
          "output_type": "stream",
          "name": "stdout",
          "text": [
            "12.715308911562614 m / s\n"
          ]
        }
      ]
    }
  ]
}