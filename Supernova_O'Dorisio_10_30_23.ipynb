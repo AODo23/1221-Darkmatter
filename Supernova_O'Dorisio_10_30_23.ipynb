{
  "nbformat": 4,
  "nbformat_minor": 0,
  "metadata": {
    "colab": {
      "provenance": [],
      "authorship_tag": "ABX9TyM8Q+UJRbL0waIwyDOGahGI",
      "include_colab_link": true
    },
    "kernelspec": {
      "name": "python3",
      "display_name": "Python 3"
    },
    "language_info": {
      "name": "python"
    }
  },
  "cells": [
    {
      "cell_type": "markdown",
      "metadata": {
        "id": "view-in-github",
        "colab_type": "text"
      },
      "source": [
        "<a href=\"https://colab.research.google.com/github/AODo23/1221-Darkmatter/blob/main/Supernova_O'Dorisio_10_30_23.ipynb\" target=\"_parent\"><img src=\"https://colab.research.google.com/assets/colab-badge.svg\" alt=\"Open In Colab\"/></a>"
      ]
    },
    {
      "cell_type": "code",
      "execution_count": null,
      "metadata": {
        "id": "KYcVdvF0vOnr"
      },
      "outputs": [],
      "source": [
        "import numpy as np #Here we import our handy astropy tools to help us keep our code concise\n",
        "import matplotlib.pyplot as plt"
      ]
    },
    {
      "cell_type": "code",
      "source": [
        "import astropy.io.ascii # We now upload our data from NASA ADS on supernovae\n",
        "import astropy.units as u\n",
        "import astropy.constants as ac"
      ],
      "metadata": {
        "id": "K80ZXhdTvbwB"
      },
      "execution_count": null,
      "outputs": []
    },
    {
      "cell_type": "code",
      "source": [
        "from google.colab import files # We now upload our data from NASA ADS on supernovae\n",
        "uploaded = files.upload()"
      ],
      "metadata": {
        "id": "vvDdJWKXvsUE"
      },
      "execution_count": null,
      "outputs": []
    },
    {
      "cell_type": "code",
      "source": [
        "dat = astropy.io.ascii.read(\"Tonry_2003.vot\") #The command wil now read the data"
      ],
      "metadata": {
        "id": "XPmKvuhnv2Ke"
      },
      "execution_count": null,
      "outputs": []
    },
    {
      "cell_type": "code",
      "source": [
        "distance = 10**dat[\"col8\"] / 72.0 * u.mpc #Identifying what data is in which column, we tie this data into python and classify it. After that we plot the values we wish to see visibly\n",
        "distance_error = (10**(dat[\"col8\"]+dat[\"col9\"]) - 10**dat[\"col8\"]) / 72.0 * u.mpc\n",
        "velocity = 10**dat[\"col7\"] * u.km / u.s\n",
        "plt.plot(distance.to(u.mpc).value, velocity.to(u.km / u.s).value, marker=\".\", color=\"black\", linestyle=\"none\")\n",
        "plt.xscale(\"log\")\n",
        "plt.yscale(\"log\")\n",
        "plt.xlabel(\"Distance [Mpc]\")\n",
        "plt.ylabel(\"Velocity [km/s]\")"
      ],
      "metadata": {
        "id": "DQabFUwxg_K0",
        "colab": {
          "base_uri": "https://localhost:8080/",
          "height": 472
        },
        "outputId": "f59603d3-ffff-4ab5-ff43-bf5749e35b67"
      },
      "execution_count": null,
      "outputs": [
        {
          "output_type": "execute_result",
          "data": {
            "text/plain": [
              "Text(0, 0.5, 'Velocity [km/s]')"
            ]
          },
          "metadata": {},
          "execution_count": 5
        },
        {
          "output_type": "display_data",
          "data": {
            "text/plain": [
              "<Figure size 640x480 with 1 Axes>"
            ],
            "image/png": "[encoded data removed]"
          },
          "metadata": {}
        }
      ]
    },
    {
      "cell_type": "code",
      "source": [
        "distance = 10**dat[\"col8\"] / 72.0 * u.mpc #Same thing as above only now we are plotting error bars\n",
        "velocity = 10**dat[\"col7\"] * u.km / u.s\n",
        "plt.errorbar(distance.to(u.mpc).value, velocity.to(u.km / u.s).value, xerr=distance_error.to(u.mpc).value, marker=\".\", color=\"black\", linestyle=\"none\")\n",
        "plt.xlim(0, 700)\n",
        "plt.ylim(0, 4e4)\n",
        "plt.xlabel(\"Distance [Mpc]\")\n",
        "plt.ylabel(\"Velocity [km/s]\")"
      ],
      "metadata": {
        "id": "9JEwUvdCwJ5h"
      },
      "execution_count": null,
      "outputs": []
    },
    {
      "cell_type": "code",
      "source": [
        "x = distance.to(u.mpc).value #Here we define new variables to help us calculate\n",
        "ind = np.where((x > 0) & (x < 700))\n",
        "z = np.polyfit(distance.to(u.mpc).value[ind], velocity.to(u.km / u.s).value[ind], 1)"
      ],
      "metadata": {
        "id": "4c-E6s5FwPid"
      },
      "execution_count": null,
      "outputs": []
    },
    {
      "cell_type": "code",
      "source": [
        "p = np.poly1d(z)"
      ],
      "metadata": {
        "id": "TyHYjxlwwX2F"
      },
      "execution_count": null,
      "outputs": []
    },
    {
      "cell_type": "code",
      "source": [
        "velocity_model = p(distance.to(u.mpc).value)"
      ],
      "metadata": {
        "id": "jI8xSP8vwaKg"
      },
      "execution_count": null,
      "outputs": []
    },
    {
      "cell_type": "code",
      "source": [
        "plt.errorbar(distance.to(u.mpc).value, velocity.to(u.km / u.s).value, xerr=distance_error.to(u.mpc).value, marker=\".\", color=\"black\", linestyle=\"none\")\n",
        "plt.plot(distance.to(u.mpc).value, velocity_model, color=\"grey\", linewidth=5)\n",
        "plt.xlim(0, 700) #Once again we plot errorbars, but for our new value\n",
        "plt.ylim(0, 4e4)\n",
        "plt.xlabel(\"Distance [Mpc]\")\n",
        "plt.ylabel(\"Velocity [km/s]\")\n",
        "plt.annotate(r\"$H_0$ = {0:5.2f} km/s/Mpc\".format(z[0]), xy=(50, 30000))"
      ],
      "metadata": {
        "id": "R2TlEJmDwfZC"
      },
      "execution_count": null,
      "outputs": []
    },
    {
      "cell_type": "code",
      "source": [
        "x = velocity.to(u.km / u.s).value[ind] #We define new variables again\n",
        "y = distance.to(u.mpc).value[ind]\n",
        "yerr = distance_error.to(u.mpc).value[ind]\n",
        "\n",
        "plt.errorbar(x, y, yerr=yerr, marker=\".\", color=\"black\", linestyle=\"none\")\n",
        "# plt.ylim(0, 700)\n",
        "# plt.xlim(0, 4e4)\n",
        "plt.ylabel(\"Distance [Mpc]\")\n",
        "plt.xlabel(\"Velocity [km/s]\")"
      ],
      "metadata": {
        "id": "19Z-ADiowgie"
      },
      "execution_count": null,
      "outputs": []
    },
    {
      "cell_type": "code",
      "source": [
        "x0 = np.linspace(0, 50000, 500)\n",
        "\n",
        "A = np.vander(x, 2)\n",
        "C = np.diag(yerr * yerr)\n",
        "ATA = np.dot(A.T, A / (yerr**2)[:, None])\n",
        "cov = np.linalg.inv(ATA)\n",
        "w = np.linalg.solve(ATA, np.dot(A.T, y / yerr**2))\n",
        "print(\"Least-squares estimates:\")\n",
        "print(\"m = {0:.3f} ± {1:.3f}\".format(w[0], np.sqrt(cov[0, 0])))\n",
        "print(\"b = {0:.3f} ± {1:.3f}\".format(w[1], np.sqrt(cov[1, 1])))\n",
        "\n",
        "plt.errorbar(x, y, yerr=yerr, fmt=\".k\", capsize=0)\n",
        "plt.plot(x0, np.dot(np.vander(x0, 2), w), \"--k\", label=\"LS\")\n",
        "plt.legend(fontsize=14)\n",
        "plt.ylabel(\"Distance [Mpc]\")\n",
        "plt.xlabel(\"Velocity [km/s]\");"
      ],
      "metadata": {
        "id": "tLKdl7SkwjDa"
      },
      "execution_count": null,
      "outputs": []
    },
    {
      "cell_type": "code",
      "source": [
        "def log_likelihood(theta, x, y, yerr):\n",
        "    m, b, log_f = theta\n",
        "    model = m * x + b\n",
        "    sigma2 = yerr**2 + model**2 * np.exp(2 * log_f)\n",
        "    return -0.5 * np.sum((y - model) ** 2 / sigma2 + np.log(sigma2))"
      ],
      "metadata": {
        "id": "I0fDIq3Pwm8F"
      },
      "execution_count": null,
      "outputs": []
    },
    {
      "cell_type": "code",
      "source": [
        "from scipy.optimize import minimize\n",
        "\n",
        "np.random.seed(42)\n",
        "nll = lambda *args: -log_likelihood(*args)\n",
        "initial = np.array([1 / 72.0, 0.0, np.log(1.0)]) + 0.1 * np.random.randn(3)\n",
        "soln = minimize(nll, initial, args=(x, y, yerr))\n",
        "m_ml, b_ml, log_f_ml = soln.x\n",
        "\n",
        "print(\"Maximum likelihood estimates:\")\n",
        "print(\"m = {0:.3f}\".format(m_ml))\n",
        "print(\"b = {0:.3f}\".format(b_ml))\n",
        "print(\"f = {0:.3f}\".format(np.exp(log_f_ml)))\n",
        "\n",
        "plt.errorbar(x, y, yerr=yerr, fmt=\".k\", capsize=0)\n",
        "plt.plot(x0, np.dot(np.vander(x0, 2), w), \"--k\", label=\"LS\")\n",
        "plt.plot(x0, np.dot(np.vander(x0, 2), [m_ml, b_ml]), \":k\", label=\"ML\")\n",
        "plt.legend(fontsize=14)\n",
        "plt.ylabel(\"Distance [Mpc]\")\n",
        "plt.xlabel(\"Velocity [km/s]\");"
      ],
      "metadata": {
        "id": "1kTwvGa7wqJQ"
      },
      "execution_count": null,
      "outputs": []
    },
    {
      "cell_type": "code",
      "source": [
        "def log_prior(theta):\n",
        "    m, b, log_f = theta\n",
        "    if 0.0 < m < 0.5 and -100.0 < b < 100.0 and -10.0 < log_f < 1.0:\n",
        "        return 0.0\n",
        "    return -np.inf\n",
        "\n",
        "def log_probability(theta, x, y, yerr):\n",
        "    lp = log_prior(theta)\n",
        "    if not np.isfinite(lp):\n",
        "        return -np.inf\n",
        "    return lp + log_likelihood(theta, x, y, yerr)"
      ],
      "metadata": {
        "id": "dfMP11d2ws4h"
      },
      "execution_count": null,
      "outputs": []
    },
    {
      "cell_type": "code",
      "source": [
        "! pip install -U emcee"
      ],
      "metadata": {
        "id": "PfeCipsvwvYn"
      },
      "execution_count": null,
      "outputs": []
    },
    {
      "cell_type": "code",
      "source": [
        "import emcee\n",
        "\n",
        "pos = soln.x + 1e-4 * np.random.randn(32, 3)\n",
        "nwalkers, ndim = pos.shape\n",
        "\n",
        "sampler = emcee.EnsembleSampler(\n",
        "    nwalkers, ndim, log_probability, args=(x, y, yerr)\n",
        ")\n",
        "sampler.run_mcmc(pos, 5000, progress=True);"
      ],
      "metadata": {
        "id": "t7ZZW0MrwyLj"
      },
      "execution_count": null,
      "outputs": []
    },
    {
      "cell_type": "code",
      "source": [
        "fig, axes = plt.subplots(3, figsize=(10, 7), sharex=True)\n",
        "samples = sampler.get_chain()\n",
        "labels = [\"m\", \"b\", \"log(f)\"]\n",
        "for i in range(ndim):\n",
        "    ax = axes[i]\n",
        "    ax.plot(samples[:, :, i], \"k\", alpha=0.3)\n",
        "    ax.set_xlim(0, len(samples))\n",
        "    ax.set_ylabel(labels[i])\n",
        "    ax.yaxis.set_label_coords(-0.1, 0.5)\n",
        "\n",
        "axes[-1].set_xlabel(\"step number\");"
      ],
      "metadata": {
        "id": "e21Q3jdNw0KJ"
      },
      "execution_count": null,
      "outputs": []
    },
    {
      "cell_type": "code",
      "source": [
        "tau = sampler.get_autocorr_time()\n",
        "print(tau)"
      ],
      "metadata": {
        "id": "HRwtz4Txw2Y4"
      },
      "execution_count": null,
      "outputs": []
    },
    {
      "cell_type": "code",
      "source": [
        "flat_samples = sampler.get_chain(discard=100, thin=15, flat=True)\n",
        "print(flat_samples.shape)"
      ],
      "metadata": {
        "id": "4xmSe8YAw4zJ"
      },
      "execution_count": null,
      "outputs": []
    },
    {
      "cell_type": "code",
      "source": [
        "! pip install corner"
      ],
      "metadata": {
        "id": "lfy_g5-Yw6eE"
      },
      "execution_count": null,
      "outputs": []
    },
    {
      "cell_type": "code",
      "source": [
        "import corner\n",
        "\n",
        "fig = corner.corner(flat_samples, labels=labels);"
      ],
      "metadata": {
        "id": "8klFinmYw7-t"
      },
      "execution_count": null,
      "outputs": []
    },
    {
      "cell_type": "code",
      "source": [
        "inds = np.random.randint(len(flat_samples), size=100)\n",
        "for ind in inds:\n",
        "    sample = flat_samples[ind]\n",
        "    plt.plot(x0, np.dot(np.vander(x0, 2), sample[:2]), \"C1\", alpha=0.1)\n",
        "plt.errorbar(x, y, yerr=yerr, fmt=\".k\", capsize=0)\n",
        "plt.plot(x0, np.dot(np.vander(x0, 2), w), \"--k\", label=\"LS\")\n",
        "plt.plot(x0, np.dot(np.vander(x0, 2), [m_ml, b_ml]), \":k\", label=\"ML\")\n",
        "plt.legend(fontsize=14)\n",
        "plt.ylabel(\"Distance [Mpc]\")\n",
        "plt.xlabel(\"Velocity [km/s]\");"
      ],
      "metadata": {
        "id": "U792N4qHw9-H"
      },
      "execution_count": null,
      "outputs": []
    },
    {
      "cell_type": "code",
      "source": [
        "from IPython.display import display, Math # for the past data plots we combine them into one section and display them\n",
        "\n",
        "for i in range(ndim):\n",
        "    mcmc = np.percentile(flat_samples[:, i], [16, 50, 84])\n",
        "    q = np.diff(mcmc)\n",
        "    txt = \"\\mathrm{{{3}}} = {0:.5f}_{{-{1:.5f}}}^{{{2:.5f}}}\"\n",
        "    txt = txt.format(mcmc[1], q[0], q[1], labels[i])\n",
        "    display(Math(txt))"
      ],
      "metadata": {
        "id": "hYBcv0rNxAMJ"
      },
      "execution_count": null,
      "outputs": []
    }
  ]
}